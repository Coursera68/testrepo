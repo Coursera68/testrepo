{
 "cells": [
  {
   "cell_type": "markdown",
   "id": "5b8045b9",
   "metadata": {},
   "source": [
    "# Data Science Tools and EcoSystem"
   ]
  },
  {
   "cell_type": "markdown",
   "id": "5aa9b4be",
   "metadata": {},
   "source": [
    "In this notebook, data science tools and ecosystem are summarized. (At least, that's the goal.)"
   ]
  },
  {
   "cell_type": "markdown",
   "id": "f295c647",
   "metadata": {},
   "source": [
    "**Objectives: **\n",
    "\n",
    "* List Data Science Languages\n",
    "* List Data Science Tools\n",
    "* Familiarization with the Anaconda Environment\n",
    "* Introduction to using Jupyter Notebooks"
   ]
  },
  {
   "cell_type": "markdown",
   "id": "7f23ad71",
   "metadata": {},
   "source": [
    "Some of the popular languages that data scientists use are:\n",
    "\n",
    "1. Python\n",
    "2. Scalia\n",
    "3. R\n",
    "4. SQL\n",
    "5. Java\n",
    "6. C/C++\n"
   ]
  },
  {
   "cell_type": "markdown",
   "id": "43106ab5",
   "metadata": {},
   "source": [
    "Some of the common libaries used in data science are:\n",
    "\n",
    "1. MatplotLib\n",
    "1. NumPy\n",
    "1. Pandas\n",
    "1. Plotly\n",
    "1. Sckikit-Learn\n"
   ]
  },
  {
   "cell_type": "markdown",
   "id": "f04fe114",
   "metadata": {},
   "source": [
    "\n",
    "Tools in Data Science |\n",
    "--------------------------------\n",
    "RStudio |\n",
    "Spyder |\n",
    "PyCharm Professional |\n",
    "Jupyter Notebooks|\n",
    "\n"
   ]
  },
  {
   "cell_type": "markdown",
   "id": "d1c031d7",
   "metadata": {},
   "source": [
    "###  Below are a few examples of evaluating arithmetic expressions in Python."
   ]
  },
  {
   "cell_type": "code",
   "execution_count": 1,
   "id": "18b667a4",
   "metadata": {},
   "outputs": [
    {
     "data": {
      "text/plain": [
       "17"
      ]
     },
     "execution_count": 1,
     "metadata": {},
     "output_type": "execute_result"
    }
   ],
   "source": [
    "# This is a simple arithmetic expression to multiply and add numbers\n",
    "\n",
    "(3 * 4) + 5\n",
    "\n"
   ]
  },
  {
   "cell_type": "code",
   "execution_count": 2,
   "id": "a76c0a35",
   "metadata": {},
   "outputs": [
    {
     "data": {
      "text/plain": [
       "3.3333333333333335"
      ]
     },
     "execution_count": 2,
     "metadata": {},
     "output_type": "execute_result"
    }
   ],
   "source": [
    "# this will convert 200 minutes into hours\n",
    "\n",
    "200 / 60\n"
   ]
  },
  {
   "cell_type": "markdown",
   "id": "fe88761c",
   "metadata": {},
   "source": [
    "## Author\n",
    "Ron Minihan"
   ]
  },
  {
   "cell_type": "code",
   "execution_count": null,
   "id": "2e99e4bc",
   "metadata": {},
   "outputs": [],
   "source": []
  }
 ],
 "metadata": {
  "kernelspec": {
   "display_name": "Python 3 (ipykernel)",
   "language": "python",
   "name": "python3"
  },
  "language_info": {
   "codemirror_mode": {
    "name": "ipython",
    "version": 3
   },
   "file_extension": ".py",
   "mimetype": "text/x-python",
   "name": "python",
   "nbconvert_exporter": "python",
   "pygments_lexer": "ipython3",
   "version": "3.11.4"
  }
 },
 "nbformat": 4,
 "nbformat_minor": 5
}
